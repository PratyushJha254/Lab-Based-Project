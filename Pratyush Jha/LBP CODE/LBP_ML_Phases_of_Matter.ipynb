{
 "cells": [
  {
   "cell_type": "code",
   "execution_count": 209,
   "metadata": {
    "id": "CH9ENwKBYeOY"
   },
   "outputs": [],
   "source": [
    "import numpy as np\n",
    "from matplotlib import pyplot as plt\n",
    "import tensorflow as tf\n",
    "from tensorflow import keras\n",
    "from sklearn.model_selection import train_test_split\n",
    "from keras.utils import to_categorical\n",
    "import pickle\n",
    "from sklearn.manifold import TSNE\n",
    "import numpy as np\n",
    "import matplotlib.pyplot as plt\n",
    "import matplotlib.colors as mcol\n",
    "import matplotlib.cm as cm\n",
    "from keras.utils import to_categorical\n",
    "import keras.layers as layers\n",
    "from keras import Sequential"
   ]
  },
  {
   "cell_type": "code",
   "execution_count": 7,
   "metadata": {},
   "outputs": [],
   "source": [
    "\n",
    "def data_generation(l, name):\n",
    "    J = 1  # coupling strength\n",
    "    L = l  # grid size\n",
    "\n",
    "    temperatures = np.arange(1, 3.51, 0.1)\n",
    "    ntherm = 100  # thermalization steps\n",
    "    nsamples = 100  # number of samples for every starting configuration\n",
    "    nbin = 10  # number of starting configurations\n",
    "\n",
    "    n = len(temperatures) * nbin * nsamples  # total number of samples\n",
    "\n",
    "    C = np.empty((n, L, L))\n",
    "    T = np.empty(n)\n",
    "\n",
    "    # checkerboard pattern\n",
    "    x = np.zeros((L, L), dtype=int)\n",
    "    x[1::2, 0::2] = 1\n",
    "    x[0::2, 1::2] = 1\n",
    "\n",
    "    c = 0\n",
    "    for t in temperatures:\n",
    "        print(t)\n",
    "        for i in range(nbin):\n",
    "            # start with polarized state\n",
    "            grid = np.ones((L, L)) * (-1)**(i % 2)\n",
    "            # draw a number of sample configurations\n",
    "            for j in range(nsamples):\n",
    "                # perform a number of updates until thermalization\n",
    "                for k in range(ntherm):\n",
    "                    neighbors = np.roll(grid, +1, axis=0) + \\\n",
    "                                np.roll(grid, -1, axis=0) + \\\n",
    "                                np.roll(grid, +1, axis=1) + \\\n",
    "                                np.roll(grid, -1, axis=1)\n",
    "                    # calculate the potential changes in energy\n",
    "                    dE = 2 * J * (grid * neighbors)\n",
    "                    # calculate the transition probabilities\n",
    "                    p = np.exp(-dE / t)\n",
    "                    # decide which transitions will occur\n",
    "                    # (avoid updating neighbors using alternating checkerboard pattern)\n",
    "                    grid *= 1 - 2 * np.multiply(np.int8(np.random.rand(L, L) < p), x ^ (k % 2))\n",
    "\n",
    "                C[c] = grid\n",
    "                T[c] = t\n",
    "                c += 1\n",
    "\n",
    "    # shuffle and save data\n",
    "    p = np.random.permutation(len(C))\n",
    "    \n",
    "    np.savez_compressed(name, X=C[p], y=T[p])\n"
   ]
  },
  {
   "cell_type": "code",
   "execution_count": 9,
   "metadata": {},
   "outputs": [
    {
     "name": "stdout",
     "output_type": "stream",
     "text": [
      "1.0\n",
      "1.1\n",
      "1.2000000000000002\n",
      "1.3000000000000003\n",
      "1.4000000000000004\n",
      "1.5000000000000004\n",
      "1.6000000000000005\n",
      "1.7000000000000006\n",
      "1.8000000000000007\n",
      "1.9000000000000008\n",
      "2.000000000000001\n",
      "2.100000000000001\n",
      "2.200000000000001\n",
      "2.300000000000001\n",
      "2.4000000000000012\n",
      "2.5000000000000013\n",
      "2.6000000000000014\n",
      "2.7000000000000015\n",
      "2.8000000000000016\n",
      "2.9000000000000017\n",
      "3.0000000000000018\n",
      "3.100000000000002\n",
      "3.200000000000002\n",
      "3.300000000000002\n",
      "3.400000000000002\n",
      "3.500000000000002\n"
     ]
    }
   ],
   "source": [
    "# data_generation(10, 'data2.npz')\n",
    "# data_generation( 20, 'data.npz')\n",
    "# data_generation(30, 'data3.npz')\n",
    "# data_generation(40, 'data4.npz')"
   ]
  },
  {
   "cell_type": "code",
   "execution_count": 159,
   "metadata": {},
   "outputs": [],
   "source": [
    "def file_loader(file_name):\n",
    "    data = np.load(file_name)\n",
    "    X = data['X']\n",
    "    y = data['y']\n",
    "    X_train, X_test, Y_train, Y_test = train_test_split(X, y, test_size=0.15)\n",
    "    Tc = 2.27 # For a square lattice following Ising Model\n",
    "    y_train = Y_train > Tc\n",
    "    y_test = Y_test > Tc\n",
    "    y_train = to_categorical(y_train.astype(int))\n",
    "    y_test = to_categorical(y_test.astype(int))\n",
    "    return X_train, X_test, y_train, y_test, Y_train, Y_test"
   ]
  },
  {
   "cell_type": "code",
   "execution_count": 160,
   "metadata": {
    "id": "Y_8X1AJRZAaN"
   },
   "outputs": [],
   "source": [
    "# data -\n",
    "\n",
    "X_train1, X_test1, y_train1, y_test1, Y_train1, Y_test1 = file_loader('data2.npz')\n",
    "\n",
    "X_train2, X_test2, y_train2, y_test2, Y_train2, Y_test2 = file_loader('data.npz')\n",
    "\n",
    "X_train3, X_test3, y_train3, y_test3, Y_train3, Y_test3 = file_loader('data3.npz')\n",
    "\n",
    "X_train4, X_test4, y_train4, y_test4, Y_train4, Y_test4 = file_loader('data4.npz')"
   ]
  },
  {
   "cell_type": "code",
   "execution_count": 98,
   "metadata": {},
   "outputs": [
    {
     "data": {
      "text/plain": [
       "3900"
      ]
     },
     "execution_count": 98,
     "metadata": {},
     "output_type": "execute_result"
    }
   ],
   "source": [
    "X_test4.shape[0]"
   ]
  },
  {
   "cell_type": "code",
   "execution_count": 76,
   "metadata": {},
   "outputs": [
    {
     "data": {
      "text/plain": [
       "array([[ 1,  2, -1,  3,  4, -2],\n",
       "       [ 5,  6, -3,  7,  8, -4]])"
      ]
     },
     "execution_count": 76,
     "metadata": {},
     "output_type": "execute_result"
    }
   ],
   "source": [
    "l = np.array([[[1,2,-1],[3,4,-2]],[[5,6,-3],[7,8,-4]]])\n",
    "l.reshape(2,6)"
   ]
  },
  {
   "cell_type": "code",
   "execution_count": 71,
   "metadata": {},
   "outputs": [],
   "source": [
    "val = 2000\n",
    "size = X_train4.shape[1]\n",
    "X_train3_2d = X_train3.reshape(22100,size*size)\n",
    "x_t = TSNE(n_components=2).fit_transform(X_train3_2d[:val])"
   ]
  },
  {
   "cell_type": "code",
   "execution_count": 80,
   "metadata": {},
   "outputs": [],
   "source": [
    "\n",
    "# Generate some dummy data.\n",
    "# tim = np.load('data3.npz')['y'][:val]\n",
    "tim = y_train4[:val,0]\n",
    "\n",
    "\n",
    "# Make a user-defined colormap.\n",
    "cm1 = mcol.LinearSegmentedColormap.from_list(\"MyCmapName\",[\"r\",\"b\"])\n",
    "\n",
    "# Make a normalizer that will map the time values from\n",
    "# [start_time,end_time+1] -> [0,1].\n",
    "cnorm = mcol.Normalize(vmin=min(tim),vmax=max(tim))\n",
    "\n",
    "# Turn these into an object that can be used to map time values to colors and\n",
    "# can be passed to plt.colorbar().\n",
    "cpick = cm.ScalarMappable(norm=cnorm,cmap=cm1)\n",
    "cpick.set_array([])"
   ]
  },
  {
   "cell_type": "code",
   "execution_count": 82,
   "metadata": {},
   "outputs": [
    {
     "data": {
      "text/plain": [
       "<matplotlib.colorbar.Colorbar at 0x18db45e23d0>"
      ]
     },
     "execution_count": 82,
     "metadata": {},
     "output_type": "execute_result"
    },
    {
     "data": {
      "image/png": "[encoded data removed]",
      "text/plain": [
       "<Figure size 432x288 with 2 Axes>"
      ]
     },
     "metadata": {
      "needs_background": "light"
     },
     "output_type": "display_data"
    }
   ],
   "source": [
    "# It shows that the data is separable in higher dimensions\n",
    "plt.scatter(x_t.T[0], x_t.T[1], c = y_train4[:val,0], cmap = cm1)\n",
    "plt.colorbar(cpick,label=\"$T < T_c$\")"
   ]
  },
  {
   "cell_type": "markdown",
   "metadata": {
    "id": "Jru3T1Rz1aRh"
   },
   "source": [
    "## Fully Connected Neural Network"
   ]
  },
  {
   "cell_type": "code",
   "execution_count": 216,
   "metadata": {
    "colab": {
     "base_uri": "https://localhost:8080/"
    },
    "id": "aqQnPM2-5AFy",
    "outputId": "d8c68106-06bc-48d1-85aa-1be5e0894e9e"
   },
   "outputs": [],
   "source": [
    "def neural(model, X_train, X_test, y_train, y_test):\n",
    "    \n",
    "#     print('TRAINING:')\n",
    "    model.add(keras.layers.Flatten(input_shape=(X_train.shape[1], X_train.shape[1])))\n",
    "    model.add(keras.layers.Dense(100, activation = 'sigmoid', input_shape=(1024,)))\n",
    "    model.add(keras.layers.Dense(2, activation = 'sigmoid'))\n",
    "\n",
    "    model.compile(loss = 'binary_crossentropy', optimizer = 'adam', metrics = ['accuracy'])\n",
    "\n",
    "    model.fit(X_train, y_train, batch_size = 128, epochs = 50, verbose = 0)\n",
    "\n",
    "    model.evaluate(X_test, y_test, verbose = 1)\n",
    "    \n",
    "    return model\n",
    "\n",
    "\n"
   ]
  },
  {
   "cell_type": "code",
   "execution_count": 100,
   "metadata": {
    "scrolled": true
   },
   "outputs": [
    {
     "name": "stdout",
     "output_type": "stream",
     "text": [
      "TRAINING\n",
      "Epoch 1/50\n",
      "173/173 [==============================] - 5s 3ms/step - loss: 0.6901 - accuracy: 0.5662\n",
      "Epoch 2/50\n",
      "173/173 [==============================] - 0s 3ms/step - loss: 0.6315 - accuracy: 0.7429\n",
      "Epoch 3/50\n",
      "173/173 [==============================] - 0s 3ms/step - loss: 0.5263 - accuracy: 0.8875\n",
      "Epoch 4/50\n",
      "173/173 [==============================] - 0s 3ms/step - loss: 0.3773 - accuracy: 0.9367\n",
      "Epoch 5/50\n",
      "173/173 [==============================] - 0s 3ms/step - loss: 0.2538 - accuracy: 0.9488\n",
      "Epoch 6/50\n",
      "173/173 [==============================] - 1s 3ms/step - loss: 0.1842 - accuracy: 0.9546\n",
      "Epoch 7/50\n",
      "173/173 [==============================] - 0s 3ms/step - loss: 0.1493 - accuracy: 0.9583\n",
      "Epoch 8/50\n",
      "173/173 [==============================] - 1s 3ms/step - loss: 0.1272 - accuracy: 0.9606\n",
      "Epoch 9/50\n",
      "173/173 [==============================] - 0s 3ms/step - loss: 0.1124 - accuracy: 0.9647\n",
      "Epoch 10/50\n",
      "173/173 [==============================] - 0s 3ms/step - loss: 0.0992 - accuracy: 0.9683\n",
      "Epoch 11/50\n",
      "173/173 [==============================] - 1s 3ms/step - loss: 0.0930 - accuracy: 0.9694\n",
      "Epoch 12/50\n",
      "173/173 [==============================] - 0s 3ms/step - loss: 0.0849 - accuracy: 0.9718\n",
      "Epoch 13/50\n",
      "173/173 [==============================] - 0s 3ms/step - loss: 0.0794 - accuracy: 0.9731\n",
      "Epoch 14/50\n",
      "173/173 [==============================] - 0s 3ms/step - loss: 0.0749 - accuracy: 0.9744\n",
      "Epoch 15/50\n",
      "173/173 [==============================] - 0s 3ms/step - loss: 0.0694 - accuracy: 0.9758\n",
      "Epoch 16/50\n",
      "173/173 [==============================] - 0s 3ms/step - loss: 0.0650 - accuracy: 0.9772\n",
      "Epoch 17/50\n",
      "173/173 [==============================] - 0s 3ms/step - loss: 0.0612 - accuracy: 0.9786\n",
      "Epoch 18/50\n",
      "173/173 [==============================] - 0s 3ms/step - loss: 0.0579 - accuracy: 0.9802\n",
      "Epoch 19/50\n",
      "173/173 [==============================] - 0s 3ms/step - loss: 0.0554 - accuracy: 0.9803\n",
      "Epoch 20/50\n",
      "173/173 [==============================] - 0s 3ms/step - loss: 0.0511 - accuracy: 0.9827\n",
      "Epoch 21/50\n",
      "173/173 [==============================] - 0s 3ms/step - loss: 0.0485 - accuracy: 0.9842\n",
      "Epoch 22/50\n",
      "173/173 [==============================] - 0s 3ms/step - loss: 0.0457 - accuracy: 0.9852\n",
      "Epoch 23/50\n",
      "173/173 [==============================] - 0s 3ms/step - loss: 0.0425 - accuracy: 0.9860\n",
      "Epoch 24/50\n",
      "173/173 [==============================] - 0s 3ms/step - loss: 0.0416 - accuracy: 0.9868\n",
      "Epoch 25/50\n",
      "173/173 [==============================] - 0s 3ms/step - loss: 0.0379 - accuracy: 0.9886\n",
      "Epoch 26/50\n",
      "173/173 [==============================] - 0s 3ms/step - loss: 0.0358 - accuracy: 0.9896\n",
      "Epoch 27/50\n",
      "173/173 [==============================] - 0s 3ms/step - loss: 0.0347 - accuracy: 0.9906\n",
      "Epoch 28/50\n",
      "173/173 [==============================] - 0s 3ms/step - loss: 0.0325 - accuracy: 0.9916\n",
      "Epoch 29/50\n",
      "173/173 [==============================] - 0s 3ms/step - loss: 0.0298 - accuracy: 0.9926\n",
      "Epoch 30/50\n",
      "173/173 [==============================] - 1s 3ms/step - loss: 0.0278 - accuracy: 0.9931\n",
      "Epoch 31/50\n",
      "173/173 [==============================] - 1s 3ms/step - loss: 0.0258 - accuracy: 0.9943\n",
      "Epoch 32/50\n",
      "173/173 [==============================] - 1s 3ms/step - loss: 0.0243 - accuracy: 0.9948\n",
      "Epoch 33/50\n",
      "173/173 [==============================] - 0s 3ms/step - loss: 0.0234 - accuracy: 0.9948\n",
      "Epoch 34/50\n",
      "173/173 [==============================] - 0s 3ms/step - loss: 0.0209 - accuracy: 0.9964\n",
      "Epoch 35/50\n",
      "173/173 [==============================] - 0s 3ms/step - loss: 0.0193 - accuracy: 0.9964\n",
      "Epoch 36/50\n",
      "173/173 [==============================] - 0s 3ms/step - loss: 0.0191 - accuracy: 0.9967\n",
      "Epoch 37/50\n",
      "173/173 [==============================] - 0s 3ms/step - loss: 0.0167 - accuracy: 0.9974\n",
      "Epoch 38/50\n",
      "173/173 [==============================] - 0s 3ms/step - loss: 0.0158 - accuracy: 0.9975\n",
      "Epoch 39/50\n",
      "173/173 [==============================] - 0s 3ms/step - loss: 0.0145 - accuracy: 0.9978\n",
      "Epoch 40/50\n",
      "173/173 [==============================] - 0s 3ms/step - loss: 0.0133 - accuracy: 0.9983\n",
      "Epoch 41/50\n",
      "173/173 [==============================] - 0s 3ms/step - loss: 0.0123 - accuracy: 0.9988\n",
      "Epoch 42/50\n",
      "173/173 [==============================] - 0s 3ms/step - loss: 0.0119 - accuracy: 0.9986\n",
      "Epoch 43/50\n",
      "173/173 [==============================] - 0s 3ms/step - loss: 0.0102 - accuracy: 0.9993\n",
      "Epoch 44/50\n",
      "173/173 [==============================] - 0s 3ms/step - loss: 0.0096 - accuracy: 0.9990\n",
      "Epoch 45/50\n",
      "173/173 [==============================] - 0s 3ms/step - loss: 0.0090 - accuracy: 0.9995\n",
      "Epoch 46/50\n",
      "173/173 [==============================] - 0s 3ms/step - loss: 0.0085 - accuracy: 0.9994\n",
      "Epoch 47/50\n",
      "173/173 [==============================] - 0s 3ms/step - loss: 0.0077 - accuracy: 0.9996\n",
      "Epoch 48/50\n",
      "173/173 [==============================] - 0s 3ms/step - loss: 0.0066 - accuracy: 0.9998\n",
      "Epoch 49/50\n",
      "173/173 [==============================] - 0s 3ms/step - loss: 0.0062 - accuracy: 0.9998\n",
      "Epoch 50/50\n",
      "173/173 [==============================] - 0s 3ms/step - loss: 0.0062 - accuracy: 0.9998\n",
      "122/122 [==============================] - 4s 2ms/step - loss: 0.1240 - accuracy: 0.9644\n"
     ]
    }
   ],
   "source": [
    "model = keras.Sequential()\n",
    "model = neural(model, X_train2, X_test2, y_train2, y_test2)\n"
   ]
  },
  {
   "cell_type": "code",
   "execution_count": 217,
   "metadata": {},
   "outputs": [
    {
     "name": "stdout",
     "output_type": "stream",
     "text": [
      "MODEL1\n",
      "122/122 [==============================] - 4s 2ms/step - loss: 0.1936 - accuracy: 0.9279\n",
      "MODEL3\n",
      "122/122 [==============================] - 4s 2ms/step - loss: 0.1081 - accuracy: 0.9708\n",
      "MODEL4\n",
      "122/122 [==============================] - 4s 2ms/step - loss: 0.1187 - accuracy: 0.9697\n"
     ]
    }
   ],
   "source": [
    "print('MODEL1')\n",
    "model1 = keras.Sequential()\n",
    "model1 = neural(model1, X_train1, X_test1, y_train1, y_test1)\n",
    "print('MODEL3')\n",
    "model3 = keras.Sequential()\n",
    "model3 = neural(model3, X_train3, X_test3, y_train3, y_test3)\n",
    "print('MODEL4')\n",
    "model4 = keras.Sequential()\n",
    "model4 = neural(model4, X_train4, X_test4, y_train4, y_test4)\n"
   ]
  },
  {
   "cell_type": "code",
   "execution_count": 268,
   "metadata": {},
   "outputs": [
    {
     "data": {
      "text/plain": [
       "Text(0, 0.5, 'Accuracy')"
      ]
     },
     "execution_count": 268,
     "metadata": {},
     "output_type": "execute_result"
    },
    {
     "data": {
      "image/png": "[encoded data removed]",
      "text/plain": [
       "<Figure size 432x288 with 1 Axes>"
      ]
     },
     "metadata": {
      "needs_background": "light"
     },
     "output_type": "display_data"
    }
   ],
   "source": [
    "plt.plot([10,20,30,40], [0.9279,0.9644, 0.9708, 0.9697])\n",
    "plt.scatter([10,20,30,40], [0.9279,0.9644, 0.9708, 0.9697])\n",
    "plt.xlabel('Lattice size')\n",
    "plt.ylabel('Accuracy')"
   ]
  },
  {
   "cell_type": "code",
   "execution_count": null,
   "metadata": {},
   "outputs": [],
   "source": []
  },
  {
   "cell_type": "code",
   "execution_count": 220,
   "metadata": {},
   "outputs": [],
   "source": [
    "def preds(model, X_test, size):\n",
    "    l = []\n",
    "\n",
    "#     print('PREDICTIONS:')\n",
    "    for i in range(1,size):\n",
    "#         print('i=',i)\n",
    "        l.append(model.predict(X_test[(i-1):(i)], verbose = 0))\n",
    "    l = np.array(l)\n",
    "    \n",
    "    return l"
   ]
  },
  {
   "cell_type": "code",
   "execution_count": 201,
   "metadata": {},
   "outputs": [],
   "source": [
    "def sortIt(l, y):\n",
    "    size = l.shape[0]\n",
    "    a = np.zeros(size)\n",
    "    b = np.zeros(size)\n",
    "    l1 = np.zeros(size)\n",
    "    l2 = np.zeros(size)\n",
    "    for x in range(size):\n",
    "      a[x]=l[x][0][0]\n",
    "      b[x]=l[x][0][1]\n",
    "      l1[x]=y[x]\n",
    "\n",
    "    c = np.array([l1, a])\n",
    "    sorted_c = c.T[l1.argsort()]\n",
    "    \n",
    "    d = np.array([l1, b])\n",
    "    sorted_d = d.T[l1.argsort()]\n",
    "    \n",
    "    return sorted_c, sorted_d"
   ]
  },
  {
   "cell_type": "code",
   "execution_count": 203,
   "metadata": {},
   "outputs": [],
   "source": [
    "def plotIt(sorted, y_test):\n",
    "    \n",
    "    t = np.arange(1, 3.51, 0.1)\n",
    "    vals = np.zeros(t.shape[0])\n",
    "    x_axisc = sorted[:,0]\n",
    "    y_axis = sorted[:,1]\n",
    "    k2=0\n",
    "    \n",
    "    for i in t:\n",
    "        val=0\n",
    "        count=0\n",
    "        flag=0\n",
    "        k=0\n",
    "        for j in x_axis:\n",
    "            if(i==j):\n",
    "                val=val+y_axis[k]\n",
    "                count=count+1\n",
    "                flag=1\n",
    "            k=k+1\n",
    "        if(flag==1):\n",
    "            vals[k2] = val/count\n",
    "        if(flag==0 and k2!=0):\n",
    "            vals[k2] = vals[k2-1]\n",
    "        k2+=1\n",
    "\n",
    "    plt.plot(t, vals)"
   ]
  },
  {
   "cell_type": "code",
   "execution_count": 207,
   "metadata": {
    "scrolled": true
   },
   "outputs": [
    {
     "data": {
      "text/plain": [
       "<matplotlib.collections.PathCollection at 0x18db6f62c70>"
      ]
     },
     "execution_count": 207,
     "metadata": {},
     "output_type": "execute_result"
    },
    {
     "data": {
      "image/png": "[encoded data removed]",
      "text/plain": [
       "<Figure size 432x288 with 1 Axes>"
      ]
     },
     "metadata": {
      "needs_background": "light"
     },
     "output_type": "display_data"
    }
   ],
   "source": [
    "plt.scatter(sorted_c[:,0], sorted_c[:,1])\n",
    "# plt.scatter(sdx, sdy)"
   ]
  },
  {
   "cell_type": "code",
   "execution_count": 205,
   "metadata": {
    "scrolled": true
   },
   "outputs": [
    {
     "data": {
      "image/png": "[encoded data removed]",
      "text/plain": [
       "<Figure size 432x288 with 1 Axes>"
      ]
     },
     "metadata": {
      "needs_background": "light"
     },
     "output_type": "display_data"
    }
   ],
   "source": []
  },
  {
   "cell_type": "code",
   "execution_count": 229,
   "metadata": {},
   "outputs": [],
   "source": [
    "l1 = preds(model1, X_test1, size)"
   ]
  },
  {
   "cell_type": "code",
   "execution_count": 230,
   "metadata": {},
   "outputs": [],
   "source": [
    "# l2 = preds(model, X_test2, size)\n"
   ]
  },
  {
   "cell_type": "code",
   "execution_count": 231,
   "metadata": {},
   "outputs": [],
   "source": [
    "l3 = preds(model3, X_test3, size)\n"
   ]
  },
  {
   "cell_type": "code",
   "execution_count": 233,
   "metadata": {},
   "outputs": [],
   "source": [
    "# l4 = preds(model3, X_test4, size)"
   ]
  },
  {
   "cell_type": "code",
   "execution_count": 234,
   "metadata": {},
   "outputs": [],
   "source": [
    "def plot_all(model, l, X_test2, y_test2, Y_test2, size = 100):\n",
    "    \n",
    "#     l = preds(model, X_test2, size)\n",
    "    sorted_c, sorted_d = sortIt(l, Y_test2)\n",
    "    plotIt(sorted_c, y_test2)\n",
    "    plotIt(sorted_d, y_test2)\n",
    "    return sorted_c[:,0], sorted_c[:,1], sorted_d[:,0], sorted_d[:,1]"
   ]
  },
  {
   "cell_type": "code",
   "execution_count": 258,
   "metadata": {
    "scrolled": true
   },
   "outputs": [
    {
     "data": {
      "text/plain": [
       "Text(0, 0.5, 'Output Layer')"
      ]
     },
     "execution_count": 258,
     "metadata": {},
     "output_type": "execute_result"
    },
    {
     "data": {
      "image/png": "[encoded data removed]",
      "text/plain": [
       "<Figure size 432x288 with 1 Axes>"
      ]
     },
     "metadata": {
      "needs_background": "light"
     },
     "output_type": "display_data"
    }
   ],
   "source": [
    "scx1, scy1, sdx1, sdy1 = plot_all(model1, l1, X_test1, y_test1, Y_test1)\n",
    "plt.scatter(scx1, scy1)\n",
    "plt.scatter(sdx1, sdy1)\n",
    "plt.plot(np.linspace(2.27,2.27,scy3.shape[0]),scy3)\n",
    "# scx2, scy2, sdx2, sdy2 = plot_all(model3, l, X_test2, y_test2, Y_test2)\n",
    "# scx3, scy3, sdx3, sdy3 = plot_all(model3, l3, X_test3, y_test3, Y_test3)\n",
    "plt.xlabel('T/J')\n",
    "plt.ylabel('Output Layer')"
   ]
  },
  {
   "cell_type": "code",
   "execution_count": 259,
   "metadata": {},
   "outputs": [
    {
     "data": {
      "text/plain": [
       "Text(0, 0.5, 'Output Layer')"
      ]
     },
     "execution_count": 259,
     "metadata": {},
     "output_type": "execute_result"
    },
    {
     "data": {
      "image/png": "[encoded data removed]",
      "text/plain": [
       "<Figure size 432x288 with 1 Axes>"
      ]
     },
     "metadata": {
      "needs_background": "light"
     },
     "output_type": "display_data"
    }
   ],
   "source": [
    "scx2, scy2, sdx2, sdy2 = plot_all(model3, l, X_test2, y_test2, Y_test2)\n",
    "plt.scatter(scx2, scy2)\n",
    "plt.scatter(sdx2, sdy2)\n",
    "plt.plot(np.linspace(2.27,2.27,scy3.shape[0]),scy3)\n",
    "plt.xlabel('T/J')\n",
    "plt.ylabel('Output Layer')"
   ]
  },
  {
   "cell_type": "code",
   "execution_count": 255,
   "metadata": {},
   "outputs": [
    {
     "data": {
      "text/plain": [
       "[<matplotlib.lines.Line2D at 0x18db658b040>]"
      ]
     },
     "execution_count": 255,
     "metadata": {},
     "output_type": "execute_result"
    },
    {
     "data": {
      "image/png": "[encoded data removed]",
      "text/plain": [
       "<Figure size 432x288 with 1 Axes>"
      ]
     },
     "metadata": {
      "needs_background": "light"
     },
     "output_type": "display_data"
    }
   ],
   "source": [
    "scx3, scy3, sdx3, sdy3 = plot_all(model3, l3, X_test3, y_test3, Y_test3)\n",
    "# plt.plot(np.linspace(2.27,2.27,scy3.shape[0]),scy3)"
   ]
  },
  {
   "cell_type": "code",
   "execution_count": 261,
   "metadata": {},
   "outputs": [
    {
     "data": {
      "text/plain": [
       "Text(0, 0.5, 'Output Layer')"
      ]
     },
     "execution_count": 261,
     "metadata": {},
     "output_type": "execute_result"
    },
    {
     "data": {
      "image/png": "[encoded data removed]",
      "text/plain": [
       "<Figure size 432x288 with 1 Axes>"
      ]
     },
     "metadata": {
      "needs_background": "light"
     },
     "output_type": "display_data"
    }
   ],
   "source": [
    "plt.scatter(scx3, scy3)\n",
    "plt.scatter(sdx3, sdy3)\n",
    "# plt.scatter(sdx3, sdy3)\n",
    "plt.plot(np.linspace(2.27,2.27,scy3.shape[0]),scy3, color='g')\n",
    "plt.xlabel('T/J')\n",
    "plt.ylabel('Output Layer')"
   ]
  },
  {
   "cell_type": "code",
   "execution_count": 262,
   "metadata": {},
   "outputs": [],
   "source": [
    "def plotIt2(sorted, y_test, latt):\n",
    "    \n",
    "    t = np.arange(1, 3.51, 0.1)\n",
    "    vals = np.zeros(t.shape[0])\n",
    "    x_axisc = sorted[:,0]\n",
    "    y_axis = sorted[:,1]\n",
    "    k2=0\n",
    "    \n",
    "    for i in t:\n",
    "        val=0\n",
    "        count=0\n",
    "        flag=0\n",
    "        k=0\n",
    "        for j in x_axis:\n",
    "            if(i==j):\n",
    "                val=val+y_axis[k]\n",
    "                count=count+1\n",
    "                flag=1\n",
    "            k=k+1\n",
    "        if(flag==1):\n",
    "            vals[k2] = val/count\n",
    "        if(flag==0 and k2!=0):\n",
    "            vals[k2] = vals[k2-1]\n",
    "        k2+=1\n",
    "\n",
    "    plt.plot(t, (vals-2.27)*(latt))"
   ]
  },
  {
   "cell_type": "code",
   "execution_count": 265,
   "metadata": {},
   "outputs": [],
   "source": [
    "# plt.scatter(scx1, (scy1-2.27)*(10))\n",
    "# plt.scatter(sdx1, (sdy1-2.27)*(10))\n",
    "# sorted_c, sorted_d = sortIt(l, Y_test1)\n",
    "# plotIt2(sorted_c, y_test1, 10)\n",
    "# plotIt2(sorted_d, y_test1, 10)\n",
    "# plt.xlabel('$tL^{1/v}$')\n",
    "# plt.ylabel('Output Layer')"
   ]
  },
  {
   "cell_type": "code",
   "execution_count": null,
   "metadata": {},
   "outputs": [],
   "source": []
  },
  {
   "cell_type": "markdown",
   "metadata": {
    "id": "bYkujZv-1YfP"
   },
   "source": [
    "## CNN"
   ]
  },
  {
   "cell_type": "code",
   "execution_count": 212,
   "metadata": {
    "colab": {
     "base_uri": "https://localhost:8080/"
    },
    "id": "vnSEJIB0KFKT",
    "outputId": "9b38133d-8bc5-4240-cb0b-ca0054c9f968"
   },
   "outputs": [
    {
     "name": "stdout",
     "output_type": "stream",
     "text": [
      "Epoch 1/10\n",
      "32/32 [==============================] - 16s 369ms/step - loss: 0.5765 - binary_accuracy: 0.9080 - val_loss: 0.0919 - val_binary_accuracy: 0.9700\n",
      "Epoch 2/10\n",
      "32/32 [==============================] - 11s 341ms/step - loss: 0.0624 - binary_accuracy: 0.9820 - val_loss: 0.0451 - val_binary_accuracy: 0.9800\n",
      "Epoch 3/10\n",
      "32/32 [==============================] - 11s 345ms/step - loss: 0.0301 - binary_accuracy: 0.9930 - val_loss: 0.0032 - val_binary_accuracy: 1.0000\n",
      "Epoch 4/10\n",
      "32/32 [==============================] - 11s 338ms/step - loss: 0.0195 - binary_accuracy: 0.9950 - val_loss: 0.0496 - val_binary_accuracy: 0.9900\n",
      "Epoch 5/10\n",
      "32/32 [==============================] - 11s 342ms/step - loss: 0.0116 - binary_accuracy: 0.9960 - val_loss: 0.0022 - val_binary_accuracy: 1.0000\n",
      "Epoch 6/10\n",
      "32/32 [==============================] - 9s 289ms/step - loss: 0.0056 - binary_accuracy: 0.9980 - val_loss: 0.0131 - val_binary_accuracy: 0.9900\n",
      "Epoch 7/10\n",
      "32/32 [==============================] - 9s 288ms/step - loss: 0.0029 - binary_accuracy: 0.9990 - val_loss: 0.0180 - val_binary_accuracy: 1.0000\n",
      "Epoch 8/10\n",
      "32/32 [==============================] - 9s 281ms/step - loss: 0.0051 - binary_accuracy: 0.9990 - val_loss: 0.0049 - val_binary_accuracy: 1.0000\n",
      "Epoch 9/10\n",
      "32/32 [==============================] - 10s 299ms/step - loss: 0.0030 - binary_accuracy: 1.0000 - val_loss: 0.0152 - val_binary_accuracy: 0.9900\n",
      "Epoch 10/10\n",
      "32/32 [==============================] - 9s 276ms/step - loss: 0.0024 - binary_accuracy: 1.0000 - val_loss: 0.0158 - val_binary_accuracy: 0.9900\n"
     ]
    }
   ],
   "source": [
    "model = Sequential([\n",
    "          layers.Reshape(target_shape=(40,40,1), input_shape=(40,40)),\n",
    "          layers.Conv2D(128, (3,3), padding='valid', activation='relu'),\n",
    "          layers.Flatten(), \n",
    "          layers.Dense(128, activation='relu'),\n",
    "          layers.Dropout(.5),\n",
    "          layers.Dense(2, activation='softmax')\n",
    "        ])\n",
    "\n",
    "\n",
    "model.compile(optimizer='adam',\n",
    "              loss='binary_crossentropy',\n",
    "              metrics=['binary_accuracy'])\n",
    "\n",
    "hist = model.fit(X_train4[:1000], y_train4[:1000], epochs=10, batch_size=32, validation_data = (X_test4[:100], y_test4[:100]))\n"
   ]
  }
 ],
 "metadata": {
  "colab": {
   "provenance": []
  },
  "kernelspec": {
   "display_name": "Python 3 (ipykernel)",
   "language": "python",
   "name": "python3"
  },
  "language_info": {
   "codemirror_mode": {
    "name": "ipython",
    "version": 3
   },
   "file_extension": ".py",
   "mimetype": "text/x-python",
   "name": "python",
   "nbconvert_exporter": "python",
   "pygments_lexer": "ipython3",
   "version": "3.9.7"
  }
 },
 "nbformat": 4,
 "nbformat_minor": 1
}
